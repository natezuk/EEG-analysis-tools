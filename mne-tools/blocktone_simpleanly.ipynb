{
 "cells": [
  {
   "cell_type": "code",
   "execution_count": null,
   "id": "17d30120-9657-4fb3-b5b4-75fb0309a1e6",
   "metadata": {},
   "outputs": [],
   "source": [
    "# Load the EEG data\n",
    "fn = \"C:\\Users\\psy3zukn\\Nottingham Trent University\\SoundLearn - Documents\\eeg_data\\pilot_blocktone\\NZ-EEG-Test2.bdf\"\n",
    "\n"
   ]
  }
 ],
 "metadata": {
  "kernelspec": {
   "display_name": "Python 3 (ipykernel)",
   "language": "python",
   "name": "python3"
  },
  "language_info": {
   "codemirror_mode": {
    "name": "ipython",
    "version": 3
   },
   "file_extension": ".py",
   "mimetype": "text/x-python",
   "name": "python",
   "nbconvert_exporter": "python",
   "pygments_lexer": "ipython3",
   "version": "3.12.2"
  }
 },
 "nbformat": 4,
 "nbformat_minor": 5
}
